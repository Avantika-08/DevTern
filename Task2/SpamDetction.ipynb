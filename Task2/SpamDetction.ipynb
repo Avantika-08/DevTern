{
 "cells": [
  {
   "cell_type": "code",
   "execution_count": 24,
   "id": "86a2e273-011e-40e5-9df3-f30d924ad490",
   "metadata": {},
   "outputs": [],
   "source": [
    "import pandas as pd\n",
    "import matplotlib.pyplot as plt\n",
    "import seaborn as sns\n",
    "%matplotlib inline \n",
    "\n",
    "import tensorflow as tf\n",
    "\n",
    "from sklearn.model_selection import train_test_split\n",
    "\n",
    "from tensorflow.keras.models import Sequential\n",
    "from tensorflow.keras.layers import Dense, Flatten, Dropout, Embedding\n",
    "from tensorflow.keras.callbacks import EarlyStopping\n",
    "\n",
    "from tensorflow.keras.preprocessing.sequence import pad_sequences\n",
    "from tensorflow.keras.preprocessing.text import Tokenizer\n"
   ]
  },
  {
   "cell_type": "code",
   "execution_count": 25,
   "id": "abfcde22-b647-4144-ac14-930e7604043b",
   "metadata": {},
   "outputs": [
    {
     "data": {
      "text/plain": [
       "(5171, 4)"
      ]
     },
     "execution_count": 25,
     "metadata": {},
     "output_type": "execute_result"
    }
   ],
   "source": [
    "data=pd.read_csv(\"spam_ham_dataset.csv\")\n",
    "data.shape"
   ]
  },
  {
   "cell_type": "code",
   "execution_count": 26,
   "id": "04e12a81-ac4c-40c4-a31c-a1329ed0bc22",
   "metadata": {},
   "outputs": [
    {
     "data": {
      "text/html": [
       "<div>\n",
       "<style scoped>\n",
       "    .dataframe tbody tr th:only-of-type {\n",
       "        vertical-align: middle;\n",
       "    }\n",
       "\n",
       "    .dataframe tbody tr th {\n",
       "        vertical-align: top;\n",
       "    }\n",
       "\n",
       "    .dataframe thead th {\n",
       "        text-align: right;\n",
       "    }\n",
       "</style>\n",
       "<table border=\"1\" class=\"dataframe\">\n",
       "  <thead>\n",
       "    <tr style=\"text-align: right;\">\n",
       "      <th></th>\n",
       "      <th>Unnamed: 0</th>\n",
       "      <th>label</th>\n",
       "      <th>text</th>\n",
       "      <th>label_num</th>\n",
       "    </tr>\n",
       "  </thead>\n",
       "  <tbody>\n",
       "    <tr>\n",
       "      <th>0</th>\n",
       "      <td>605</td>\n",
       "      <td>ham</td>\n",
       "      <td>Subject: enron methanol ; meter # : 988291\\r\\n...</td>\n",
       "      <td>0</td>\n",
       "    </tr>\n",
       "    <tr>\n",
       "      <th>1</th>\n",
       "      <td>2349</td>\n",
       "      <td>ham</td>\n",
       "      <td>Subject: hpl nom for january 9 , 2001\\r\\n( see...</td>\n",
       "      <td>0</td>\n",
       "    </tr>\n",
       "    <tr>\n",
       "      <th>2</th>\n",
       "      <td>3624</td>\n",
       "      <td>ham</td>\n",
       "      <td>Subject: neon retreat\\r\\nho ho ho , we ' re ar...</td>\n",
       "      <td>0</td>\n",
       "    </tr>\n",
       "    <tr>\n",
       "      <th>3</th>\n",
       "      <td>4685</td>\n",
       "      <td>spam</td>\n",
       "      <td>Subject: photoshop , windows , office . cheap ...</td>\n",
       "      <td>1</td>\n",
       "    </tr>\n",
       "    <tr>\n",
       "      <th>4</th>\n",
       "      <td>2030</td>\n",
       "      <td>ham</td>\n",
       "      <td>Subject: re : indian springs\\r\\nthis deal is t...</td>\n",
       "      <td>0</td>\n",
       "    </tr>\n",
       "  </tbody>\n",
       "</table>\n",
       "</div>"
      ],
      "text/plain": [
       "   Unnamed: 0 label                                               text  \\\n",
       "0         605   ham  Subject: enron methanol ; meter # : 988291\\r\\n...   \n",
       "1        2349   ham  Subject: hpl nom for january 9 , 2001\\r\\n( see...   \n",
       "2        3624   ham  Subject: neon retreat\\r\\nho ho ho , we ' re ar...   \n",
       "3        4685  spam  Subject: photoshop , windows , office . cheap ...   \n",
       "4        2030   ham  Subject: re : indian springs\\r\\nthis deal is t...   \n",
       "\n",
       "   label_num  \n",
       "0          0  \n",
       "1          0  \n",
       "2          0  \n",
       "3          1  \n",
       "4          0  "
      ]
     },
     "execution_count": 26,
     "metadata": {},
     "output_type": "execute_result"
    }
   ],
   "source": [
    "data.head()"
   ]
  },
  {
   "cell_type": "code",
   "execution_count": 27,
   "id": "d4f0dddc-554b-496d-af3a-656157db78fc",
   "metadata": {},
   "outputs": [],
   "source": [
    "data.drop(\"Unnamed: 0\", axis=1, inplace=True)"
   ]
  },
  {
   "cell_type": "code",
   "execution_count": 28,
   "id": "41c8b2fc-2bd7-4bc7-9316-31de0ef2645b",
   "metadata": {},
   "outputs": [],
   "source": [
    "data.drop(\"label_num\", axis=1, inplace=True)"
   ]
  },
  {
   "cell_type": "code",
   "execution_count": 29,
   "id": "173bedc6-dd9d-4b6e-a638-f949f983aa63",
   "metadata": {},
   "outputs": [
    {
     "data": {
      "text/html": [
       "<div>\n",
       "<style scoped>\n",
       "    .dataframe tbody tr th:only-of-type {\n",
       "        vertical-align: middle;\n",
       "    }\n",
       "\n",
       "    .dataframe tbody tr th {\n",
       "        vertical-align: top;\n",
       "    }\n",
       "\n",
       "    .dataframe thead th {\n",
       "        text-align: right;\n",
       "    }\n",
       "</style>\n",
       "<table border=\"1\" class=\"dataframe\">\n",
       "  <thead>\n",
       "    <tr style=\"text-align: right;\">\n",
       "      <th></th>\n",
       "      <th>label</th>\n",
       "      <th>ham</th>\n",
       "      <th>spam</th>\n",
       "    </tr>\n",
       "  </thead>\n",
       "  <tbody>\n",
       "    <tr>\n",
       "      <th rowspan=\"4\" valign=\"top\">text</th>\n",
       "      <th>count</th>\n",
       "      <td>3672</td>\n",
       "      <td>1499</td>\n",
       "    </tr>\n",
       "    <tr>\n",
       "      <th>unique</th>\n",
       "      <td>3531</td>\n",
       "      <td>1462</td>\n",
       "    </tr>\n",
       "    <tr>\n",
       "      <th>top</th>\n",
       "      <td>Subject: calpine daily gas nomination\\r\\n&gt;\\r\\n...</td>\n",
       "      <td>Subject: \\r\\n</td>\n",
       "    </tr>\n",
       "    <tr>\n",
       "      <th>freq</th>\n",
       "      <td>20</td>\n",
       "      <td>16</td>\n",
       "    </tr>\n",
       "  </tbody>\n",
       "</table>\n",
       "</div>"
      ],
      "text/plain": [
       "label                                                      ham           spam\n",
       "text count                                                3672           1499\n",
       "     unique                                               3531           1462\n",
       "     top     Subject: calpine daily gas nomination\\r\\n>\\r\\n...  Subject: \\r\\n\n",
       "     freq                                                   20             16"
      ]
     },
     "execution_count": 29,
     "metadata": {},
     "output_type": "execute_result"
    }
   ],
   "source": [
    "data.groupby('label').describe().T"
   ]
  },
  {
   "cell_type": "code",
   "execution_count": 30,
   "id": "e1ef295a-bece-43e5-a6e0-d8736e7b5884",
   "metadata": {},
   "outputs": [
    {
     "data": {
      "text/html": [
       "<div>\n",
       "<style scoped>\n",
       "    .dataframe tbody tr th:only-of-type {\n",
       "        vertical-align: middle;\n",
       "    }\n",
       "\n",
       "    .dataframe tbody tr th {\n",
       "        vertical-align: top;\n",
       "    }\n",
       "\n",
       "    .dataframe thead th {\n",
       "        text-align: right;\n",
       "    }\n",
       "</style>\n",
       "<table border=\"1\" class=\"dataframe\">\n",
       "  <thead>\n",
       "    <tr style=\"text-align: right;\">\n",
       "      <th></th>\n",
       "      <th>label</th>\n",
       "      <th>text</th>\n",
       "    </tr>\n",
       "  </thead>\n",
       "  <tbody>\n",
       "    <tr>\n",
       "      <th>0</th>\n",
       "      <td>0</td>\n",
       "      <td>Subject: enron methanol ; meter # : 988291\\r\\n...</td>\n",
       "    </tr>\n",
       "    <tr>\n",
       "      <th>1</th>\n",
       "      <td>0</td>\n",
       "      <td>Subject: hpl nom for january 9 , 2001\\r\\n( see...</td>\n",
       "    </tr>\n",
       "    <tr>\n",
       "      <th>2</th>\n",
       "      <td>0</td>\n",
       "      <td>Subject: neon retreat\\r\\nho ho ho , we ' re ar...</td>\n",
       "    </tr>\n",
       "    <tr>\n",
       "      <th>3</th>\n",
       "      <td>1</td>\n",
       "      <td>Subject: photoshop , windows , office . cheap ...</td>\n",
       "    </tr>\n",
       "    <tr>\n",
       "      <th>4</th>\n",
       "      <td>0</td>\n",
       "      <td>Subject: re : indian springs\\r\\nthis deal is t...</td>\n",
       "    </tr>\n",
       "  </tbody>\n",
       "</table>\n",
       "</div>"
      ],
      "text/plain": [
       "   label                                               text\n",
       "0      0  Subject: enron methanol ; meter # : 988291\\r\\n...\n",
       "1      0  Subject: hpl nom for january 9 , 2001\\r\\n( see...\n",
       "2      0  Subject: neon retreat\\r\\nho ho ho , we ' re ar...\n",
       "3      1  Subject: photoshop , windows , office . cheap ...\n",
       "4      0  Subject: re : indian springs\\r\\nthis deal is t..."
      ]
     },
     "execution_count": 30,
     "metadata": {},
     "output_type": "execute_result"
    }
   ],
   "source": [
    "data['label']=data['label'].map({'ham':0,'spam':1})\n",
    "data.head()"
   ]
  },
  {
   "cell_type": "code",
   "execution_count": 31,
   "id": "3549514e-6b14-4dfe-97b2-46dc5cdf3281",
   "metadata": {},
   "outputs": [],
   "source": [
    "x=data['text'].values\n",
    "y=data['label'].values\n",
    "\n",
    "x_train, x_test, y_train, y_test= train_test_split(x, y, test_size=0.2, random_state=42)"
   ]
  },
  {
   "cell_type": "code",
   "execution_count": 32,
   "id": "34926ec8-5d75-44d3-ae89-026fb158d0c6",
   "metadata": {},
   "outputs": [],
   "source": [
    "token=Tokenizer()\n",
    "token.fit_on_texts(x_train)"
   ]
  },
  {
   "cell_type": "code",
   "execution_count": 33,
   "id": "c910ba9d-4ed7-4b5a-9ff0-7f928b6c75dc",
   "metadata": {},
   "outputs": [
    {
     "name": "stdout",
     "output_type": "stream",
     "text": [
      "[[10, 208, 441, 11691, 21, 30, 1232, 3, 3900, 442, 6, 208, 2, 101, 811, 7457, 559, 888, 22, 25, 1328, 3, 2, 1087, 2995, 33, 1189, 25, 9666, 1, 4, 1040, 12, 2, 2996, 2721, 6, 2, 759, 2996, 6, 2, 134, 210, 390, 33, 1040, 95, 2, 101, 441, 2996, 811, 26, 5346, 500, 6, 25, 1302, 36, 404, 7, 113, 519, 78, 74, 153, 1, 32, 25, 302, 378, 6714, 8, 2319, 194, 20, 7458, 64, 7459, 442, 33, 336, 2, 194, 3, 43, 4, 514, 43, 14, 25, 23493, 225, 820, 252, 134, 16, 23, 2806, 25, 72, 3, 1040, 95, 250, 811, 505, 134, 32, 11, 104, 178, 114, 3, 3900, 16, 99, 787, 572, 243, 25, 379, 820, 252, 134, 96, 43, 67, 1, 33, 191, 43, 37, 357, 3565, 164, 40, 6715, 32, 11, 30, 2262, 3, 775, 64, 811, 243, 2, 9667, 110, 1, 65, 1, 6162, 40, 6163]]\n"
     ]
    }
   ],
   "source": [
    "encoded_train=token.texts_to_sequences(x_train)\n",
    "encoded_test=token.texts_to_sequences(x_test)\n",
    "print(encoded_train[0:1])"
   ]
  },
  {
   "cell_type": "code",
   "execution_count": 34,
   "id": "b3a6a69f-9f41-4a95-b8dd-f8be34aa9029",
   "metadata": {},
   "outputs": [
    {
     "name": "stdout",
     "output_type": "stream",
     "text": [
      "[[  505   134    32 ...  6162    40  6163]\n",
      " [    4   838    75 ... 23498    47     1]\n",
      " [  228     6    78 ...     1  2886   121]\n",
      " ...\n",
      " [51745  5821 51746 ...     2    17 51762]\n",
      " [   10   703   238 ...     0     0     0]\n",
      " [    1    10    45 ...    65     1   381]]\n"
     ]
    }
   ],
   "source": [
    "max_length=50\n",
    "\n",
    "padded_train=pad_sequences(encoded_train,maxlen=max_length,padding='post')\n",
    "padded_test=pad_sequences(encoded_test,maxlen=max_length,padding='post')\n",
    "\n",
    "print(padded_train)"
   ]
  },
  {
   "cell_type": "code",
   "execution_count": 35,
   "id": "faba0180-1beb-4b2e-9799-982a020d45e3",
   "metadata": {},
   "outputs": [
    {
     "name": "stdout",
     "output_type": "stream",
     "text": [
      "Model: \"sequential_1\"\n",
      "_________________________________________________________________\n",
      " Layer (type)                Output Shape              Param #   \n",
      "=================================================================\n",
      " embedding_1 (Embedding)     (None, 50, 24)            1242312   \n",
      "                                                                 \n",
      " flatten_1 (Flatten)         (None, 1200)              0         \n",
      "                                                                 \n",
      " dense_4 (Dense)             (None, 500)               600500    \n",
      "                                                                 \n",
      " dense_5 (Dense)             (None, 200)               100200    \n",
      "                                                                 \n",
      " dropout_1 (Dropout)         (None, 200)               0         \n",
      "                                                                 \n",
      " dense_6 (Dense)             (None, 100)               20100     \n",
      "                                                                 \n",
      " dense_7 (Dense)             (None, 1)                 101       \n",
      "                                                                 \n",
      "=================================================================\n",
      "Total params: 1963213 (7.49 MB)\n",
      "Trainable params: 1963213 (7.49 MB)\n",
      "Non-trainable params: 0 (0.00 Byte)\n",
      "_________________________________________________________________\n",
      "None\n"
     ]
    }
   ],
   "source": [
    "vocab_size = len(token.word_index) + 1\n",
    "\n",
    "# define the model\n",
    "model = Sequential()\n",
    "model.add(Embedding(vocab_size, 24, input_length = max_length))\n",
    "model.add(Flatten())\n",
    "model.add(Dense(500, activation='relu'))\n",
    "model.add(Dense(200, activation='relu'))\n",
    "model.add(Dropout(0.5))\n",
    "model.add(Dense(100, activation='relu'))\n",
    "model.add(Dense(1, activation='sigmoid'))\n",
    "\n",
    "# compile the model\n",
    "model.compile(optimizer = 'rmsprop', loss = 'binary_crossentropy', metrics = ['accuracy'])\n",
    "\n",
    "# summarize the model\n",
    "print(model.summary())"
   ]
  },
  {
   "cell_type": "code",
   "execution_count": 36,
   "id": "00f0e9f8-bb31-4312-8fb6-ebeb8c969dd1",
   "metadata": {},
   "outputs": [
    {
     "name": "stdout",
     "output_type": "stream",
     "text": [
      "Epoch 1/30\n",
      "130/130 [==============================] - 4s 25ms/step - loss: 0.3229 - accuracy: 0.8441 - val_loss: 0.1281 - val_accuracy: 0.9469\n",
      "Epoch 2/30\n",
      "130/130 [==============================] - 3s 24ms/step - loss: 0.0496 - accuracy: 0.9821 - val_loss: 0.1716 - val_accuracy: 0.9430\n",
      "Epoch 3/30\n",
      "130/130 [==============================] - 3s 25ms/step - loss: 0.0153 - accuracy: 0.9952 - val_loss: 0.1224 - val_accuracy: 0.9652\n",
      "Epoch 4/30\n",
      "130/130 [==============================] - 3s 21ms/step - loss: 0.0029 - accuracy: 0.9985 - val_loss: 0.1471 - val_accuracy: 0.9671\n",
      "Epoch 5/30\n",
      "130/130 [==============================] - 3s 25ms/step - loss: 0.0026 - accuracy: 0.9993 - val_loss: 0.1731 - val_accuracy: 0.9671\n",
      "Epoch 6/30\n",
      "130/130 [==============================] - 4s 28ms/step - loss: 6.1073e-04 - accuracy: 0.9995 - val_loss: 0.1845 - val_accuracy: 0.9662\n",
      "Epoch 7/30\n",
      "130/130 [==============================] - 3s 25ms/step - loss: 0.0011 - accuracy: 0.9995 - val_loss: 0.1920 - val_accuracy: 0.9662\n",
      "Epoch 8/30\n",
      "130/130 [==============================] - 3s 24ms/step - loss: 3.3889e-05 - accuracy: 1.0000 - val_loss: 0.2000 - val_accuracy: 0.9614\n",
      "Epoch 9/30\n",
      "130/130 [==============================] - 3s 23ms/step - loss: 2.7174e-05 - accuracy: 1.0000 - val_loss: 0.1791 - val_accuracy: 0.9652\n",
      "Epoch 10/30\n",
      "130/130 [==============================] - 3s 25ms/step - loss: 1.1661e-05 - accuracy: 1.0000 - val_loss: 0.2116 - val_accuracy: 0.9652\n",
      "Epoch 11/30\n",
      "130/130 [==============================] - 4s 28ms/step - loss: 1.0012e-05 - accuracy: 1.0000 - val_loss: 0.1972 - val_accuracy: 0.9671\n",
      "Epoch 12/30\n",
      "130/130 [==============================] - 4s 29ms/step - loss: 6.0532e-06 - accuracy: 1.0000 - val_loss: 0.2037 - val_accuracy: 0.9662\n",
      "Epoch 13/30\n",
      "130/130 [==============================] - 3s 23ms/step - loss: 3.8695e-06 - accuracy: 1.0000 - val_loss: 0.2094 - val_accuracy: 0.9652\n",
      "Epoch 13: early stopping\n"
     ]
    }
   ],
   "source": [
    "early_stop = EarlyStopping(monitor='val_loss',mode='min',verbose=1, patience=10)\n",
    "history=model.fit(x=padded_train,y=y_train,epochs=30,validation_data=(padded_test,y_test),verbose=1,callbacks=[early_stop])"
   ]
  },
  {
   "cell_type": "code",
   "execution_count": 37,
   "id": "489a195f-b15d-4cd7-b106-b895ac3c2ef9",
   "metadata": {},
   "outputs": [
    {
     "name": "stdout",
     "output_type": "stream",
     "text": [
      "33/33 [==============================] - 0s 5ms/step - loss: 0.2094 - accuracy: 0.9652\n"
     ]
    },
    {
     "data": {
      "text/plain": [
       "[0.20940205454826355, 0.9652174115180969]"
      ]
     },
     "execution_count": 37,
     "metadata": {},
     "output_type": "execute_result"
    }
   ],
   "source": [
    "model.evaluate(padded_test,y_test)"
   ]
  },
  {
   "cell_type": "code",
   "execution_count": 38,
   "id": "f07f6a0c-1c0c-4931-b752-33519e74588e",
   "metadata": {},
   "outputs": [],
   "source": [
    "from sklearn.metrics import classification_report, confusion_matrix, accuracy_score\n",
    "\n",
    "def c_report(y_true, y_pred):\n",
    "   print(\"Classification Report\")\n",
    "   print(classification_report(y_true, y_pred))\n",
    "   acc_sc = accuracy_score(y_true, y_pred)\n",
    "   print(\"Accuracy : \"+ str(acc_sc))\n",
    "   return acc_sc\n",
    "\n",
    "def plot_confusion_matrix(y_true, y_pred):\n",
    "   mtx = confusion_matrix(y_true, y_pred)\n",
    "   sns.heatmap(mtx, annot=True, fmt='d', linewidths=.5, \n",
    "               cmap=\"Blues\", cbar=False)\n",
    "   plt.ylabel('True label')\n",
    "   plt.xlabel('Predicted label')"
   ]
  },
  {
   "cell_type": "code",
   "execution_count": 39,
   "id": "07e3d2a1-d9d6-4ea0-8899-f1305b69a126",
   "metadata": {},
   "outputs": [
    {
     "name": "stdout",
     "output_type": "stream",
     "text": [
      "33/33 [==============================] - 0s 3ms/step\n"
     ]
    }
   ],
   "source": [
    "preds = (model.predict(padded_test) > 0.5).astype(\"int32\")"
   ]
  },
  {
   "cell_type": "code",
   "execution_count": 40,
   "id": "c0ea4232-18ff-4002-bb8f-58f22495823f",
   "metadata": {},
   "outputs": [
    {
     "name": "stdout",
     "output_type": "stream",
     "text": [
      "Classification Report\n",
      "              precision    recall  f1-score   support\n",
      "\n",
      "           0       0.97      0.98      0.98       742\n",
      "           1       0.95      0.92      0.94       293\n",
      "\n",
      "    accuracy                           0.97      1035\n",
      "   macro avg       0.96      0.95      0.96      1035\n",
      "weighted avg       0.97      0.97      0.97      1035\n",
      "\n",
      "Accuracy : 0.9652173913043478\n"
     ]
    },
    {
     "data": {
      "text/plain": [
       "0.9652173913043478"
      ]
     },
     "execution_count": 40,
     "metadata": {},
     "output_type": "execute_result"
    }
   ],
   "source": [
    "c_report(y_test, preds)"
   ]
  },
  {
   "cell_type": "code",
   "execution_count": 41,
   "id": "9ed34bee-9f85-4025-a8cb-aa267fbdb610",
   "metadata": {},
   "outputs": [
    {
     "data": {
      "text/plain": [
       "0.9652173913043478"
      ]
     },
     "execution_count": 41,
     "metadata": {},
     "output_type": "execute_result"
    }
   ],
   "source": [
    "accuracy_score(y_test, preds)"
   ]
  },
  {
   "cell_type": "code",
   "execution_count": 42,
   "id": "7611f0fc-8cae-49e6-b00d-617289ddc2d7",
   "metadata": {},
   "outputs": [
    {
     "data": {
      "image/png": "[encoded data removed]",
      "text/plain": [
       "<Figure size 640x480 with 1 Axes>"
      ]
     },
     "metadata": {},
     "output_type": "display_data"
    }
   ],
   "source": [
    "plot_confusion_matrix(y_test, preds)"
   ]
  },
  {
   "cell_type": "code",
   "execution_count": 43,
   "id": "3fbab012-9b39-445e-b638-58bbc5b34bca",
   "metadata": {},
   "outputs": [
    {
     "name": "stdout",
     "output_type": "stream",
     "text": [
      "INFO:tensorflow:Assets written to: spam_model\\assets\n"
     ]
    },
    {
     "name": "stderr",
     "output_type": "stream",
     "text": [
      "INFO:tensorflow:Assets written to: spam_model\\assets\n"
     ]
    }
   ],
   "source": [
    "model.save(\"spam_model\")"
   ]
  },
  {
   "cell_type": "code",
   "execution_count": 44,
   "id": "a679e4db-5ae5-4d3d-a4ab-62dec4f52bad",
   "metadata": {},
   "outputs": [
    {
     "data": {
      "image/png": "[encoded data removed]",
      "text/plain": [
       "<Figure size 640x480 with 1 Axes>"
      ]
     },
     "metadata": {},
     "output_type": "display_data"
    }
   ],
   "source": [
    "plt.plot(history.history['accuracy'], label='Training Accuracy')\n",
    "plt.plot(history.history['val_accuracy'], label='Validation Accuracy')\n",
    "plt.title('Model Accuracy')\n",
    "plt.ylabel('Accuracy')\n",
    "plt.xlabel('Epoch')\n",
    "plt.show()"
   ]
  },
  {
   "cell_type": "code",
   "execution_count": 45,
   "id": "871605cf-445a-4289-850a-bda6309683a9",
   "metadata": {},
   "outputs": [
    {
     "name": "stdout",
     "output_type": "stream",
     "text": [
      "1/1 [==============================] - 0s 45ms/step\n",
      "Prediction: 0\n"
     ]
    }
   ],
   "source": [
    "sms = [\"Hi, I'll be late, lets check this tomorrow \"]\n",
    "sms_proc = token.texts_to_sequences(sms)\n",
    "sms_proc = pad_sequences(sms_proc, maxlen=max_length, padding='post')\n",
    "pred = (model.predict(sms_proc) > 0.5).astype(\"int32\")[0].item()\n",
    "print(\"Prediction:\", pred)"
   ]
  },
  {
   "cell_type": "code",
   "execution_count": null,
   "id": "1084375b-50dd-4514-9060-de1e9709c174",
   "metadata": {},
   "outputs": [],
   "source": []
  }
 ],
 "metadata": {
  "kernelspec": {
   "display_name": "Python 3 (ipykernel)",
   "language": "python",
   "name": "python3"
  },
  "language_info": {
   "codemirror_mode": {
    "name": "ipython",
    "version": 3
   },
   "file_extension": ".py",
   "mimetype": "text/x-python",
   "name": "python",
   "nbconvert_exporter": "python",
   "pygments_lexer": "ipython3",
   "version": "3.11.4"
  }
 },
 "nbformat": 4,
 "nbformat_minor": 5
}
