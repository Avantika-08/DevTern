{
 "cells": [
  {
   "cell_type": "code",
   "execution_count": 1,
   "id": "e118289f-69fc-44cb-8bfe-f9c6eb90e945",
   "metadata": {},
   "outputs": [],
   "source": [
    "import pandas as pd\n",
    "import numpy as np\n",
    "\n",
    "from sklearn.model_selection import train_test_split\n",
    "from sklearn.preprocessing import StandardScaler\n",
    "from sklearn.linear_model import LogisticRegression\n",
    "from sklearn.metrics import accuracy_score, classification_report, confusion_matrix,precision_score,recall_score,f1_score"
   ]
  },
  {
   "cell_type": "code",
   "execution_count": 2,
   "id": "1e30cb2d-fdf6-4a41-b709-fabff3ebe5db",
   "metadata": {},
   "outputs": [
    {
     "name": "stdout",
     "output_type": "stream",
     "text": [
      "<class 'pandas.core.frame.DataFrame'>\n",
      "RangeIndex: 270 entries, 0 to 269\n",
      "Data columns (total 14 columns):\n",
      " #   Column                   Non-Null Count  Dtype  \n",
      "---  ------                   --------------  -----  \n",
      " 0   Age                      270 non-null    int64  \n",
      " 1   Sex                      270 non-null    int64  \n",
      " 2   Chest pain type          270 non-null    int64  \n",
      " 3   BP                       270 non-null    int64  \n",
      " 4   Cholesterol              270 non-null    int64  \n",
      " 5   FBS over 120             270 non-null    int64  \n",
      " 6   EKG results              270 non-null    int64  \n",
      " 7   Max HR                   270 non-null    int64  \n",
      " 8   Exercise angina          270 non-null    int64  \n",
      " 9   ST depression            270 non-null    float64\n",
      " 10  Slope of ST              270 non-null    int64  \n",
      " 11  Number of vessels fluro  270 non-null    int64  \n",
      " 12  Thallium                 270 non-null    int64  \n",
      " 13  Heart Disease            270 non-null    object \n",
      "dtypes: float64(1), int64(12), object(1)\n",
      "memory usage: 29.7+ KB\n"
     ]
    }
   ],
   "source": [
    "data=pd.read_csv('Heart_Disease_Prediction.csv')\n",
    "data.info()"
   ]
  },
  {
   "cell_type": "code",
   "execution_count": 3,
   "id": "1a747036-3c14-41ce-9ab8-6e06b87cd6b9",
   "metadata": {},
   "outputs": [
    {
     "name": "stdout",
     "output_type": "stream",
     "text": [
      "   Age  Sex  Chest pain type   BP  Cholesterol  FBS over 120  EKG results  \\\n",
      "0   70    1                4  130          322             0            2   \n",
      "1   67    0                3  115          564             0            2   \n",
      "2   57    1                2  124          261             0            0   \n",
      "3   64    1                4  128          263             0            0   \n",
      "4   74    0                2  120          269             0            2   \n",
      "\n",
      "   Max HR  Exercise angina  ST depression  Slope of ST  \\\n",
      "0     109                0            2.4            2   \n",
      "1     160                0            1.6            2   \n",
      "2     141                0            0.3            1   \n",
      "3     105                1            0.2            2   \n",
      "4     121                1            0.2            1   \n",
      "\n",
      "   Number of vessels fluro  Thallium HeartDisease  \n",
      "0                        3         3     Presence  \n",
      "1                        0         7      Absence  \n",
      "2                        0         7     Presence  \n",
      "3                        1         7      Absence  \n",
      "4                        1         3      Absence  \n"
     ]
    }
   ],
   "source": [
    "df=data.rename(columns={'Heart Disease':'HeartDisease'})\n",
    "print(df.head())"
   ]
  },
  {
   "cell_type": "code",
   "execution_count": 4,
   "id": "6d3d98c4-5eb3-414b-a05c-0a3982be896d",
   "metadata": {},
   "outputs": [
    {
     "name": "stdout",
     "output_type": "stream",
     "text": [
      "     Age  Sex  Chest pain type   BP  Cholesterol  FBS over 120  EKG results  \\\n",
      "0     70    1                4  130          322             0            2   \n",
      "1     67    0                3  115          564             0            2   \n",
      "2     57    1                2  124          261             0            0   \n",
      "3     64    1                4  128          263             0            0   \n",
      "4     74    0                2  120          269             0            2   \n",
      "..   ...  ...              ...  ...          ...           ...          ...   \n",
      "265   52    1                3  172          199             1            0   \n",
      "266   44    1                2  120          263             0            0   \n",
      "267   56    0                2  140          294             0            2   \n",
      "268   57    1                4  140          192             0            0   \n",
      "269   67    1                4  160          286             0            2   \n",
      "\n",
      "     Max HR  Exercise angina  ST depression  Slope of ST  \\\n",
      "0       109                0            2.4            2   \n",
      "1       160                0            1.6            2   \n",
      "2       141                0            0.3            1   \n",
      "3       105                1            0.2            2   \n",
      "4       121                1            0.2            1   \n",
      "..      ...              ...            ...          ...   \n",
      "265     162                0            0.5            1   \n",
      "266     173                0            0.0            1   \n",
      "267     153                0            1.3            2   \n",
      "268     148                0            0.4            2   \n",
      "269     108                1            1.5            2   \n",
      "\n",
      "     Number of vessels fluro  Thallium  HeartDisease  \n",
      "0                          3         3             1  \n",
      "1                          0         7             0  \n",
      "2                          0         7             1  \n",
      "3                          1         7             0  \n",
      "4                          1         3             0  \n",
      "..                       ...       ...           ...  \n",
      "265                        0         7             0  \n",
      "266                        0         7             0  \n",
      "267                        0         3             0  \n",
      "268                        0         6             0  \n",
      "269                        3         3             1  \n",
      "\n",
      "[270 rows x 14 columns]\n"
     ]
    }
   ],
   "source": [
    "df['HeartDisease'] = pd.to_numeric(df['HeartDisease'].map({'Presence':1,'Absence':0}))\n",
    "print(df)"
   ]
  },
  {
   "cell_type": "code",
   "execution_count": 5,
   "id": "a758ef43-57de-4299-8bf0-b7973519a4a3",
   "metadata": {},
   "outputs": [
    {
     "name": "stdout",
     "output_type": "stream",
     "text": [
      "<class 'pandas.core.frame.DataFrame'>\n",
      "RangeIndex: 270 entries, 0 to 269\n",
      "Data columns (total 14 columns):\n",
      " #   Column                   Non-Null Count  Dtype  \n",
      "---  ------                   --------------  -----  \n",
      " 0   Age                      270 non-null    int64  \n",
      " 1   Sex                      270 non-null    int64  \n",
      " 2   Chest pain type          270 non-null    int64  \n",
      " 3   BP                       270 non-null    int64  \n",
      " 4   Cholesterol              270 non-null    int64  \n",
      " 5   FBS over 120             270 non-null    int64  \n",
      " 6   EKG results              270 non-null    int64  \n",
      " 7   Max HR                   270 non-null    int64  \n",
      " 8   Exercise angina          270 non-null    int64  \n",
      " 9   ST depression            270 non-null    float64\n",
      " 10  Slope of ST              270 non-null    int64  \n",
      " 11  Number of vessels fluro  270 non-null    int64  \n",
      " 12  Thallium                 270 non-null    int64  \n",
      " 13  HeartDisease             270 non-null    int64  \n",
      "dtypes: float64(1), int64(13)\n",
      "memory usage: 29.7 KB\n"
     ]
    }
   ],
   "source": [
    "df.info()"
   ]
  },
  {
   "cell_type": "code",
   "execution_count": 6,
   "id": "fb76e333-97a0-4e39-b285-c9b419fa3f82",
   "metadata": {
    "scrolled": true
   },
   "outputs": [
    {
     "data": {
      "text/plain": [
       "HeartDisease\n",
       "0    150\n",
       "1    120\n",
       "Name: count, dtype: int64"
      ]
     },
     "execution_count": 6,
     "metadata": {},
     "output_type": "execute_result"
    }
   ],
   "source": [
    "class_distribution = df['HeartDisease'].value_counts()\n",
    "class_distribution"
   ]
  },
  {
   "cell_type": "code",
   "execution_count": 7,
   "id": "d69e0c5f-66a8-46cd-8ec3-a08b09397f4e",
   "metadata": {},
   "outputs": [
    {
     "data": {
      "text/plain": [
       "False"
      ]
     },
     "execution_count": 7,
     "metadata": {},
     "output_type": "execute_result"
    }
   ],
   "source": [
    "df.isnull().any().any()"
   ]
  },
  {
   "cell_type": "code",
   "execution_count": 8,
   "id": "64b455ad-f30d-4a32-a169-2bbe2d016c68",
   "metadata": {},
   "outputs": [],
   "source": [
    "Y=df.HeartDisease.values\n",
    "X=df.drop(['HeartDisease'],axis=1)"
   ]
  },
  {
   "cell_type": "code",
   "execution_count": 9,
   "id": "5e5c9f2d-ded0-400b-ae20-b1197e8c16b1",
   "metadata": {
    "scrolled": true
   },
   "outputs": [
    {
     "data": {
      "text/plain": [
       "array([[ 1.71209356,  0.6894997 ,  0.87092765, ...,  0.67641928,\n",
       "         2.47268219, -0.87570581],\n",
       "       [ 1.38213977, -1.45032695, -0.18355874, ...,  0.67641928,\n",
       "        -0.71153494,  1.18927733],\n",
       "       [ 0.2822938 ,  0.6894997 , -1.23804513, ..., -0.95423434,\n",
       "        -0.71153494,  1.18927733],\n",
       "       ...,\n",
       "       [ 0.1723092 , -1.45032695, -1.23804513, ...,  0.67641928,\n",
       "        -0.71153494, -0.87570581],\n",
       "       [ 0.2822938 ,  0.6894997 ,  0.87092765, ...,  0.67641928,\n",
       "        -0.71153494,  0.67303154],\n",
       "       [ 1.38213977,  0.6894997 ,  0.87092765, ...,  0.67641928,\n",
       "         2.47268219, -0.87570581]])"
      ]
     },
     "execution_count": 9,
     "metadata": {},
     "output_type": "execute_result"
    }
   ],
   "source": [
    "from sklearn.preprocessing import StandardScaler\n",
    "scaler=StandardScaler()\n",
    "X=scaler.fit_transform(X)\n",
    "X"
   ]
  },
  {
   "cell_type": "code",
   "execution_count": 10,
   "id": "b7491f10-fc55-4575-9f68-2e065ee4ccac",
   "metadata": {
    "scrolled": true
   },
   "outputs": [
    {
     "name": "stdout",
     "output_type": "stream",
     "text": [
      "(13, 216)\n",
      "(216,)\n",
      "(54,)\n"
     ]
    }
   ],
   "source": [
    "X_train, X_test, Y_train, Y_test = train_test_split(X, Y, test_size=0.2, random_state=42)\n",
    "\n",
    "X_train = X_train.T\n",
    "X_test = X_test.T\n",
    "Y_train = Y_train.T\n",
    "Y_test = Y_test.T\n",
    "\n",
    "print(X_train.shape)\n",
    "print(Y_train.shape)\n",
    "print(Y_test.shape)\n"
   ]
  },
  {
   "cell_type": "code",
   "execution_count": 11,
   "id": "96204668-7cfc-4661-8d1b-91cb4d056ba4",
   "metadata": {},
   "outputs": [],
   "source": [
    "###Initialize the weights and bias\n",
    "def initialize_W_b_with_zeros(num_features):\n",
    "    w = np.zeros(shape = (num_features,1))\n",
    "    b = 0\n",
    "    return w,b"
   ]
  },
  {
   "cell_type": "code",
   "execution_count": 12,
   "id": "f3e662d1-1c30-4a87-9cad-e602399bb7e6",
   "metadata": {},
   "outputs": [],
   "source": [
    "### Sigmoid Function\n",
    "def sigmoid(z):\n",
    "    s = 1/(1+ np.exp(-z))\n",
    "    \n",
    "    return s"
   ]
  },
  {
   "cell_type": "code",
   "execution_count": 13,
   "id": "de77ee30-eed1-4149-ba2f-a2d88ba81000",
   "metadata": {},
   "outputs": [],
   "source": [
    "#Forward and Backward propagation function \n",
    "def propagate(w,b, X,Y):\n",
    "    \n",
    "    m = X.shape[1]\n",
    "    z = np.dot(w.T, X) + b\n",
    "    A = sigmoid(z)\n",
    "    \n",
    "    loss =  - (Y * np.log(A) + (1-Y) * np.log( 1-A) )\n",
    "    cost=  np.sum(loss)/m\n",
    "    \n",
    "    dw = (1 / m) * np.dot(X, (A-Y).T)\n",
    "    db = (1 / m) * np.sum(A-Y)\n",
    "    \n",
    "    gradient= {\"dw\": dw,\n",
    "             \"db\": db}\n",
    "    \n",
    "    return gradient, cost"
   ]
  },
  {
   "cell_type": "code",
   "execution_count": 14,
   "id": "3e620fad-d085-44e6-890f-ebba03efe13c",
   "metadata": {},
   "outputs": [],
   "source": [
    "def update(w,b, X,Y, num_iterations, learning_rate):\n",
    "    \n",
    "    costs = []\n",
    "    \n",
    "    for i in range( num_iterations ):\n",
    "        gradient, cost = propagate(w,b, X,Y)\n",
    "        \n",
    "        dw = gradient['dw']\n",
    "        db = gradient['db']\n",
    "        \n",
    "        w = w - learning_rate * dw\n",
    "        b = b - learning_rate * db\n",
    "        \n",
    "        if i % 20 == 0:\n",
    "            costs.append(cost)\n",
    "            \n",
    "    parameters = {\"w\": w,\n",
    "                 \"b\": b}\n",
    "    \n",
    "    gradient= {\"dw\": dw,\n",
    "             \"db\": db}\n",
    "    \n",
    "    return parameters, gradient, costs"
   ]
  },
  {
   "cell_type": "code",
   "execution_count": 15,
   "id": "561ccc34-f111-4a20-aa71-a602159a58bb",
   "metadata": {},
   "outputs": [],
   "source": [
    "def predict( w,b,X):\n",
    "    m = X.shape[1]\n",
    "    Y_prediction = np.zeros((1,m))\n",
    "    w = w.reshape(X.shape[0], 1)\n",
    "    \n",
    "    A = sigmoid( np.dot(w.T , X) + b)\n",
    "    \n",
    "    for i in range(A.shape[1]):\n",
    "        if A[:,i] > 0.5 :\n",
    "              Y_prediction[:,i] = 1 \n",
    "      \n",
    "    return Y_prediction"
   ]
  },
  {
   "cell_type": "code",
   "execution_count": 16,
   "id": "de98a6ec-2956-4f73-852f-904f323bf663",
   "metadata": {},
   "outputs": [],
   "source": [
    "def calculate_confusion_matrix(y_true, y_pred):\n",
    "    tp = np.sum((y_true == 1) & (y_pred == 1))\n",
    "    tn = np.sum((y_true == 0) & (y_pred == 0))\n",
    "    fp = np.sum((y_true == 0) & (y_pred == 1))\n",
    "    fn = np.sum((y_true == 1) & (y_pred == 0))\n",
    "    confusion_matrix = np.array([[tn, fp], [fn, tp]])\n",
    "    return confusion_matrix\n"
   ]
  },
  {
   "cell_type": "code",
   "execution_count": 17,
   "id": "bd7203fd-b493-4a75-a5c7-33866713ec09",
   "metadata": {},
   "outputs": [],
   "source": [
    "def calculate_f1_score(y_true, y_pred):\n",
    "    tp = np.sum((y_true == 1) & (y_pred == 1))\n",
    "    fp = np.sum((y_true == 0) & (y_pred == 1))\n",
    "    fn = np.sum((y_true == 1) & (y_pred == 0))\n",
    "    \n",
    "    precision = tp / (tp + fp)\n",
    "    recall = tp / (tp + fn)\n",
    "    \n",
    "    f1_score = 2 * (precision * recall) / (precision + recall)\n",
    "    return f1_score\n"
   ]
  },
  {
   "cell_type": "code",
   "execution_count": 18,
   "id": "18f978d2-1c87-4ca8-a52b-8594cc7f1281",
   "metadata": {},
   "outputs": [],
   "source": [
    "def calculate_recall(y_true, y_pred):\n",
    "    tp = np.sum((y_true == 1) & (y_pred == 1))\n",
    "    fn = np.sum((y_true == 1) & (y_pred == 0))\n",
    "    recall = tp / (tp + fn)\n",
    "    return recall\n"
   ]
  },
  {
   "cell_type": "code",
   "execution_count": 19,
   "id": "c7809e7a-13b9-4953-9064-ba0b2cbf9cdd",
   "metadata": {},
   "outputs": [],
   "source": [
    "def Logistic_Regression_model(X_train, X_test, Y_train, Y_test,num_iterations, learning_rate ):\n",
    "    num_features = X_train.shape[0]\n",
    "    w,b = initialize_W_b_with_zeros(num_features)\n",
    "    parameters, gradient, costs = update(w,b, X_train,Y_train, num_iterations, learning_rate)\n",
    "    \n",
    "    w = parameters[\"w\"]\n",
    "    b = parameters[\"b\"]\n",
    "    \n",
    "    Y_Test_Predict = predict(w,b, X_test)\n",
    "    \n",
    "    print(\"test accuracy: {} %\".format(100 - np.mean(np.abs(Y_Test_Predict - Y_test)) * 100))\n",
    "    \n",
    "    conf_matrix = calculate_confusion_matrix(Y_test.ravel(), Y_Test_Predict.ravel())\n",
    "    classification_rep = classification_report(Y_test.ravel(), Y_Test_Predict.ravel())\n",
    "    f1 = calculate_f1_score(Y_test.ravel(), Y_Test_Predict.ravel())\n",
    "    recall = calculate_recall(Y_test.ravel(), Y_Test_Predict.ravel())\n",
    "\n",
    "    print(\"Confusion Matrix:\\n\", conf_matrix)\n",
    "    print(\"\\nF1 Score:\", f1)\n",
    "    print(\"\\nRecall:\", recall)\n",
    "    print(\"\\nClassification Report:\\n\", classification_rep)\n",
    "\n",
    "    \n",
    "    Dictionary = {\"Prediction \": Y_Test_Predict,\n",
    "                \"Weight\": w,\n",
    "                \"Bias\" :b,\n",
    "                \"Cost Function\" : costs}\n",
    "    \n",
    "    return Dictionary"
   ]
  },
  {
   "cell_type": "code",
   "execution_count": 20,
   "id": "c4069e3b-5665-4977-9c63-1f92eeb3104f",
   "metadata": {},
   "outputs": [
    {
     "name": "stdout",
     "output_type": "stream",
     "text": [
      "test accuracy: 90.74074074074073 %\n",
      "Confusion Matrix:\n",
      " [[31  2]\n",
      " [ 3 18]]\n",
      "\n",
      "F1 Score: 0.8780487804878048\n",
      "\n",
      "Recall: 0.8571428571428571\n",
      "\n",
      "Classification Report:\n",
      "               precision    recall  f1-score   support\n",
      "\n",
      "           0       0.91      0.94      0.93        33\n",
      "           1       0.90      0.86      0.88        21\n",
      "\n",
      "    accuracy                           0.91        54\n",
      "   macro avg       0.91      0.90      0.90        54\n",
      "weighted avg       0.91      0.91      0.91        54\n",
      "\n"
     ]
    }
   ],
   "source": [
    "Dictionary = Logistic_Regression_model(X_train, X_test, Y_train, Y_test, num_iterations=500,learning_rate=0.10)"
   ]
  },
  {
   "cell_type": "code",
   "execution_count": 21,
   "id": "ffbce4c4-d52b-4af8-8044-41f65b461fee",
   "metadata": {},
   "outputs": [
    {
     "data": {
      "image/png": "[encoded data removed]",
      "text/plain": [
       "<Figure size 640x480 with 1 Axes>"
      ]
     },
     "metadata": {},
     "output_type": "display_data"
    }
   ],
   "source": [
    "import matplotlib.pyplot as plt\n",
    "costs=np.squeeze(Dictionary['Cost Function'])\n",
    "plt.plot(costs)\n",
    "plt.ylabel('cost')\n",
    "plt.xlabel('iterations')\n",
    "plt.title(\"Cost Reduction\")\n",
    "plt.show()"
   ]
  },
  {
   "cell_type": "code",
   "execution_count": null,
   "id": "d6fba9c9-9c11-4f09-95ef-61e50d528b17",
   "metadata": {},
   "outputs": [],
   "source": []
  }
 ],
 "metadata": {
  "kernelspec": {
   "display_name": "Python 3 (ipykernel)",
   "language": "python",
   "name": "python3"
  },
  "language_info": {
   "codemirror_mode": {
    "name": "ipython",
    "version": 3
   },
   "file_extension": ".py",
   "mimetype": "text/x-python",
   "name": "python",
   "nbconvert_exporter": "python",
   "pygments_lexer": "ipython3",
   "version": "3.11.4"
  }
 },
 "nbformat": 4,
 "nbformat_minor": 5
}
